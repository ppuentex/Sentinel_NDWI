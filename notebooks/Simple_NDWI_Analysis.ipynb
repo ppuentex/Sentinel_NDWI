{
  "cells": [
    {
      "cell_type": "markdown",
      "metadata": {},
      "source": [
        "# Simple Sentinel-2 NDWI Analysis\n",
        "\n",
        "This notebook demonstrates how to download Sentinel-2 satellite data and calculate the Normalized Difference Water Index (NDWI) using the STAC API.\n",
        "\n",
        "## What is NDWI?\n",
        "\n",
        "**NDWI (Normalized Difference Water Index)** is calculated as:\n",
        "```\n",
        "NDWI = (Green - NIR) / (Green + NIR)\n",
        "```\n",
        "\n",
        "Where:\n",
        "- **Green** = Green band (Band 3 in Sentinel-2)\n",
        "- **NIR** = Near-Infrared band (Band 8 in Sentinel-2)\n",
        "\n",
        "NDWI values typically range from -1 to 1, with:\n",
        "- **Positive values** indicating water bodies\n",
        "- **Negative values** indicating non-water features\n",
        "\n",
        "## No Authentication Required!\n",
        "\n",
        "This approach uses the public STAC API hosted on AWS - no accounts or credentials needed!\n"
      ]
    },
    {
      "cell_type": "markdown",
      "metadata": {},
      "source": [
        "## Step 1: Import Libraries and Setup\n"
      ]
    },
    {
      "cell_type": "code",
      "execution_count": null,
      "metadata": {},
      "outputs": [],
      "source": [
        "# Import required libraries\n",
        "import sys\n",
        "import os\n",
        "from pathlib import Path\n",
        "import numpy as np\n",
        "import matplotlib.pyplot as plt\n",
        "import seaborn as sns\n",
        "from datetime import datetime, timedelta\n",
        "\n",
        "# Add parent directory to path to import our modules\n",
        "sys.path.append('..')\n",
        "\n",
        "from stac_downloader import STACDownloader\n",
        "from simple_config import get_location, get_date_range, print_available_locations\n",
        "\n",
        "# Set up plotting style\n",
        "plt.style.use('default')\n",
        "sns.set_palette(\"husl\")\n",
        "\n",
        "print(\"✅ All libraries imported successfully!\")\n",
        "print(f\"📅 Current date: {datetime.now().strftime('%Y-%m-%d %H:%M:%S')}\")\n"
      ]
    },
    {
      "cell_type": "markdown",
      "metadata": {},
      "source": [
        "## Step 2: Choose Your Location\n",
        "\n",
        "You can either use a predefined location or enter custom coordinates.\n"
      ]
    },
    {
      "cell_type": "code",
      "execution_count": null,
      "metadata": {},
      "outputs": [],
      "source": [
        "# Show available predefined locations\n",
        "print(\"📍 Available predefined locations:\")\n",
        "print_available_locations()\n",
        "print()\n",
        "\n",
        "# Choose a location (modify this as needed)\n",
        "location_key = \"new_york\"  # Change this to any key from the list above\n",
        "\n",
        "# Get location details\n",
        "location = get_location(location_key)\n",
        "lon, lat = location['lon'], location['lat']\n",
        "\n",
        "print(f\"✅ Selected: {location['name']}\")\n",
        "print(f\"   Coordinates: {lat:.4f}°N, {lon:.4f}°E\")\n",
        "print(f\"   Description: {location['description']}\")\n"
      ]
    },
    {
      "cell_type": "markdown",
      "metadata": {},
      "source": [
        "### Alternative: Use Custom Coordinates\n",
        "\n",
        "If you want to analyze a different location, uncomment and modify the code below:\n"
      ]
    },
    {
      "cell_type": "code",
      "execution_count": null,
      "metadata": {},
      "outputs": [],
      "source": [
        "# Uncomment and modify these lines for custom coordinates\n",
        "# lat = 40.78  # Your latitude\n",
        "# lon = -73.97  # Your longitude\n",
        "# location_name = \"My Custom Location\"\n",
        "# \n",
        "# print(f\"📍 Custom location: {lat:.4f}°N, {lon:.4f}°E\")\n"
      ]
    },
    {
      "cell_type": "markdown",
      "metadata": {},
      "source": [
        "## Step 3: Download and Analyze Sentinel-2 Data\n",
        "\n",
        "Now let's download the Sentinel-2 data and calculate NDWI for your chosen location.\n"
      ]
    },
    {
      "cell_type": "code",
      "execution_count": null,
      "metadata": {},
      "outputs": [],
      "source": [
        "# Initialize the STAC downloader\n",
        "downloader = STACDownloader()\n",
        "\n",
        "# Get date range (last 30 days)\n",
        "start_date, end_date = get_date_range(days_back=30)\n",
        "\n",
        "print(f\"🔍 Analysis Parameters:\")\n",
        "print(f\"   Location: {lat:.4f}°N, {lon:.4f}°E\")\n",
        "print(f\"   Date Range: {start_date} to {end_date}\")\n",
        "print(f\"   Search radius: 2.0 km\")\n",
        "print(f\"   Max cloud cover: 20%\")\n",
        "print()\n",
        "\n",
        "# Download and calculate NDWI\n",
        "print(\"🚀 Starting download and analysis...\")\n",
        "results = downloader.download_and_calculate_ndwi(\n",
        "    lon=lon,\n",
        "    lat=lat,\n",
        "    start_date=start_date,\n",
        "    end_date=end_date,\n",
        "    buffer_km=2.0,  # 2km radius around the point\n",
        "    cloud_cover_max=20\n",
        ")\n",
        "\n",
        "print(\"\\n✅ Download and analysis completed!\")\n",
        "print(f\"📁 Files created:\")\n",
        "for key, filepath in results.items():\n",
        "    if key != 'item':\n",
        "        print(f\"   {key}: {filepath}\")\n"
      ]
    },
    {
      "cell_type": "markdown",
      "metadata": {},
      "source": [
        "## Step 4: Analyze Results\n",
        "\n",
        "Let's examine the NDWI results and understand what they tell us about water presence.\n"
      ]
    },
    {
      "cell_type": "code",
      "execution_count": null,
      "metadata": {},
      "outputs": [],
      "source": [
        "# Analyze NDWI statistics\n",
        "stats = downloader.analyze_ndwi(results['ndwi'])\n",
        "\n",
        "print(\"📊 NDWI Analysis Results:\")\n",
        "print(f\"   Mean NDWI: {stats['mean']:.3f}\")\n",
        "print(f\"   Min NDWI: {stats['min']:.3f}\")\n",
        "print(f\"   Max NDWI: {stats['max']:.3f}\")\n",
        "print(f\"   Standard deviation: {stats['std']:.3f}\")\n",
        "print(f\"   Water percentage: {stats['water_percentage']:.1f}%\")\n",
        "print(f\"   Water pixels: {stats['water_pixels']:,}\")\n",
        "print(f\"   Total pixels: {stats['total_pixels']:,}\")\n",
        "\n",
        "# Interpretation\n",
        "print(\"\\n💡 Interpretation:\")\n",
        "if stats['water_percentage'] > 50:\n",
        "    print(\"   🌊 High water content detected - likely a water body\")\n",
        "elif stats['water_percentage'] > 20:\n",
        "    print(\"   💧 Moderate water content - mixed water/land area\")\n",
        "elif stats['water_percentage'] > 5:\n",
        "    print(\"   🌿 Low water content - mostly land with some water features\")\n",
        "else:\n",
        "    print(\"   🏔️  Very low water content - mostly land/urban area\")\n"
      ]
    },
    {
      "cell_type": "markdown",
      "metadata": {},
      "source": [
        "## Step 5: Visualize Results\n",
        "\n",
        "Let's create visualizations to see the NDWI results and compare them with the RGB image.\n"
      ]
    },
    {
      "cell_type": "code",
      "execution_count": null,
      "metadata": {},
      "outputs": [],
      "source": [
        "# Create visualization\n",
        "print(\"📊 Creating visualization...\")\n",
        "fig = downloader.plot_results(results['ndwi'], results['rgb'])\n",
        "plt.show()\n",
        "\n",
        "print(\"\\n📈 NDWI Color Scale:\")\n",
        "print(\"   🔴 Red: High NDWI values (likely water)\")\n",
        "print(\"   🟡 Yellow: Medium NDWI values (mixed areas)\")\n",
        "print(\"   🔵 Blue: Low NDWI values (likely land)\")\n"
      ]
    }
  ],
  "metadata": {
    "language_info": {
      "name": "python"
    }
  },
  "nbformat": 4,
  "nbformat_minor": 2
}
